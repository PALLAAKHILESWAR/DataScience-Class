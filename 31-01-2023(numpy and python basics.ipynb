{
 "cells": [
  {
   "cell_type": "code",
   "execution_count": 5,
   "id": "f5bb258d",
   "metadata": {},
   "outputs": [
    {
     "name": "stdout",
     "output_type": "stream",
     "text": [
      "0 1 2 3 4 5 6 7 8 9 10 "
     ]
    }
   ],
   "source": [
    "i=0\n",
    "while(i<11):\n",
    "    print(i,end=\" \")\n",
    "    i+=1"
   ]
  },
  {
   "cell_type": "code",
   "execution_count": 3,
   "id": "25cedcc7",
   "metadata": {},
   "outputs": [
    {
     "name": "stdout",
     "output_type": "stream",
     "text": [
      "2432902008176640000\n"
     ]
    }
   ],
   "source": [
    "def fac(n):\n",
    "    if(n==0):\n",
    "        return 1\n",
    "    return n*fac(n-1)\n",
    "print(fac(20))"
   ]
  },
  {
   "cell_type": "code",
   "execution_count": 19,
   "id": "cc19e769",
   "metadata": {},
   "outputs": [],
   "source": [
    "str=\"welcome\"\n",
    "a=0"
   ]
  },
  {
   "cell_type": "code",
   "execution_count": 21,
   "id": "7cd65cc7",
   "metadata": {},
   "outputs": [],
   "source": [
    "def s(str,a):\n",
    "    count=0\n",
    "    while(count<10):\n",
    "        print(str)\n",
    "        count=count+1\n",
    "        print(\"Thank you\")"
   ]
  },
  {
   "cell_type": "code",
   "execution_count": 8,
   "id": "75ad6004",
   "metadata": {
    "scrolled": true
   },
   "outputs": [
    {
     "name": "stdout",
     "output_type": "stream",
     "text": [
      "welcome\n",
      "thank you\n",
      "welcome\n",
      "thank you\n",
      "welcome\n",
      "thank you\n",
      "welcome\n",
      "thank you\n",
      "welcome\n",
      "thank you\n",
      "welcome\n",
      "thank you\n",
      "welcome\n",
      "thank you\n",
      "welcome\n",
      "thank you\n",
      "welcome\n",
      "thank you\n",
      "welcome\n",
      "thank you\n"
     ]
    }
   ],
   "source": [
    "s(str)"
   ]
  },
  {
   "cell_type": "code",
   "execution_count": 23,
   "id": "87d770f6",
   "metadata": {},
   "outputs": [],
   "source": [
    "def s(str,a):\n",
    "    count=0\n",
    "    while(count<10):\n",
    "        print(str)\n",
    "        count=count+1\n",
    "        print(a)"
   ]
  },
  {
   "cell_type": "code",
   "execution_count": 28,
   "id": "4dd425cc",
   "metadata": {},
   "outputs": [
    {
     "name": "stdout",
     "output_type": "stream",
     "text": [
      "welcome\n",
      "0\n",
      "welcome\n",
      "0\n",
      "welcome\n",
      "0\n",
      "welcome\n",
      "0\n",
      "welcome\n",
      "0\n",
      "welcome\n",
      "0\n",
      "welcome\n",
      "0\n",
      "welcome\n",
      "0\n",
      "welcome\n",
      "0\n",
      "welcome\n",
      "0\n"
     ]
    }
   ],
   "source": [
    "s(str,a)"
   ]
  },
  {
   "cell_type": "code",
   "execution_count": 29,
   "id": "94fa27b7",
   "metadata": {},
   "outputs": [],
   "source": [
    "def s(str,a):\n",
    "    while(a<10):\n",
    "        print(str)\n",
    "        a+=1\n",
    "        print(a)"
   ]
  },
  {
   "cell_type": "code",
   "execution_count": 30,
   "id": "4e2a1a93",
   "metadata": {},
   "outputs": [
    {
     "name": "stdout",
     "output_type": "stream",
     "text": [
      "welcome\n",
      "1\n",
      "welcome\n",
      "2\n",
      "welcome\n",
      "3\n",
      "welcome\n",
      "4\n",
      "welcome\n",
      "5\n",
      "welcome\n",
      "6\n",
      "welcome\n",
      "7\n",
      "welcome\n",
      "8\n",
      "welcome\n",
      "9\n",
      "welcome\n",
      "10\n"
     ]
    }
   ],
   "source": [
    "s(str,a)"
   ]
  },
  {
   "cell_type": "code",
   "execution_count": 25,
   "id": "8f6b5bc1",
   "metadata": {},
   "outputs": [],
   "source": [
    "l=[10,\"welcome\",0]"
   ]
  },
  {
   "cell_type": "code",
   "execution_count": 26,
   "id": "6de2d48c",
   "metadata": {},
   "outputs": [
    {
     "data": {
      "text/plain": [
       "[10, 'welcome', 0]"
      ]
     },
     "execution_count": 26,
     "metadata": {},
     "output_type": "execute_result"
    }
   ],
   "source": [
    "l"
   ]
  },
  {
   "cell_type": "code",
   "execution_count": 27,
   "id": "86d33675",
   "metadata": {},
   "outputs": [
    {
     "name": "stdout",
     "output_type": "stream",
     "text": [
      "[10, 'welcome', 0]\n",
      "0\n",
      "[10, 'welcome', 0]\n",
      "0\n",
      "[10, 'welcome', 0]\n",
      "0\n",
      "[10, 'welcome', 0]\n",
      "0\n",
      "[10, 'welcome', 0]\n",
      "0\n",
      "[10, 'welcome', 0]\n",
      "0\n",
      "[10, 'welcome', 0]\n",
      "0\n",
      "[10, 'welcome', 0]\n",
      "0\n",
      "[10, 'welcome', 0]\n",
      "0\n",
      "[10, 'welcome', 0]\n",
      "0\n"
     ]
    }
   ],
   "source": [
    "s(l,a)"
   ]
  },
  {
   "cell_type": "code",
   "execution_count": 31,
   "id": "4db6a838",
   "metadata": {},
   "outputs": [
    {
     "name": "stdout",
     "output_type": "stream",
     "text": [
      "[10, 'welcome', 0]\n",
      "1\n",
      "[10, 'welcome', 0]\n",
      "2\n",
      "[10, 'welcome', 0]\n",
      "3\n",
      "[10, 'welcome', 0]\n",
      "4\n",
      "[10, 'welcome', 0]\n",
      "5\n",
      "[10, 'welcome', 0]\n",
      "6\n",
      "[10, 'welcome', 0]\n",
      "7\n",
      "[10, 'welcome', 0]\n",
      "8\n",
      "[10, 'welcome', 0]\n",
      "9\n",
      "[10, 'welcome', 0]\n",
      "10\n"
     ]
    }
   ],
   "source": [
    "s(l,a)"
   ]
  },
  {
   "cell_type": "code",
   "execution_count": 32,
   "id": "2349fac1",
   "metadata": {},
   "outputs": [
    {
     "name": "stdout",
     "output_type": "stream",
     "text": [
      "welcome\n",
      "1\n",
      "welcome\n",
      "2\n",
      "welcome\n",
      "3\n",
      "welcome\n",
      "4\n",
      "welcome\n",
      "5\n",
      "welcome\n",
      "6\n",
      "welcome\n",
      "7\n",
      "welcome\n",
      "8\n",
      "welcome\n",
      "9\n",
      "welcome\n",
      "10\n"
     ]
    }
   ],
   "source": [
    "s(l[1],a)"
   ]
  },
  {
   "cell_type": "code",
   "execution_count": 33,
   "id": "a19860c6",
   "metadata": {},
   "outputs": [],
   "source": [
    "import numpy as np"
   ]
  },
  {
   "cell_type": "code",
   "execution_count": 35,
   "id": "c2030b85",
   "metadata": {},
   "outputs": [],
   "source": [
    "a=np.array([1,2,3,4,5])"
   ]
  },
  {
   "cell_type": "code",
   "execution_count": 36,
   "id": "3493f25b",
   "metadata": {},
   "outputs": [
    {
     "data": {
      "text/plain": [
       "array([1, 2, 3, 4, 5])"
      ]
     },
     "execution_count": 36,
     "metadata": {},
     "output_type": "execute_result"
    }
   ],
   "source": [
    "a"
   ]
  },
  {
   "cell_type": "code",
   "execution_count": 37,
   "id": "adc73e0b",
   "metadata": {},
   "outputs": [],
   "source": [
    "a=np.array([[1,2],[3,4]])"
   ]
  },
  {
   "cell_type": "code",
   "execution_count": 38,
   "id": "8275a346",
   "metadata": {},
   "outputs": [
    {
     "data": {
      "text/plain": [
       "array([[1, 2],\n",
       "       [3, 4]])"
      ]
     },
     "execution_count": 38,
     "metadata": {},
     "output_type": "execute_result"
    }
   ],
   "source": [
    "a"
   ]
  },
  {
   "cell_type": "code",
   "execution_count": 40,
   "id": "8fc27668",
   "metadata": {},
   "outputs": [],
   "source": [
    "a=np.array([1,2,3,4,5,6])"
   ]
  },
  {
   "cell_type": "code",
   "execution_count": 41,
   "id": "4bb5d92e",
   "metadata": {},
   "outputs": [
    {
     "data": {
      "text/plain": [
       "array([1, 2, 3, 4, 5, 6])"
      ]
     },
     "execution_count": 41,
     "metadata": {},
     "output_type": "execute_result"
    }
   ],
   "source": [
    "a"
   ]
  },
  {
   "cell_type": "code",
   "execution_count": 42,
   "id": "b6e7188f",
   "metadata": {},
   "outputs": [],
   "source": [
    "a=np.array([1,2,3,4,5],ndmin=2)"
   ]
  },
  {
   "cell_type": "code",
   "execution_count": 43,
   "id": "e755832d",
   "metadata": {},
   "outputs": [
    {
     "data": {
      "text/plain": [
       "array([[1, 2, 3, 4, 5]])"
      ]
     },
     "execution_count": 43,
     "metadata": {},
     "output_type": "execute_result"
    }
   ],
   "source": [
    "a"
   ]
  },
  {
   "cell_type": "code",
   "execution_count": 44,
   "id": "2fb5ad47",
   "metadata": {},
   "outputs": [
    {
     "data": {
      "text/plain": [
       "(1, 5)"
      ]
     },
     "execution_count": 44,
     "metadata": {},
     "output_type": "execute_result"
    }
   ],
   "source": [
    "a.shape"
   ]
  },
  {
   "cell_type": "code",
   "execution_count": 45,
   "id": "b6d453f3",
   "metadata": {},
   "outputs": [],
   "source": [
    "a=np.array([[1,2,3],[4,5,6]])"
   ]
  },
  {
   "cell_type": "code",
   "execution_count": 46,
   "id": "5d1f4758",
   "metadata": {},
   "outputs": [
    {
     "data": {
      "text/plain": [
       "array([[1, 2, 3],\n",
       "       [4, 5, 6]])"
      ]
     },
     "execution_count": 46,
     "metadata": {},
     "output_type": "execute_result"
    }
   ],
   "source": [
    "a"
   ]
  },
  {
   "cell_type": "code",
   "execution_count": 61,
   "id": "a1189221",
   "metadata": {},
   "outputs": [
    {
     "data": {
      "text/plain": [
       "(3, 2)"
      ]
     },
     "execution_count": 61,
     "metadata": {},
     "output_type": "execute_result"
    }
   ],
   "source": [
    "a"
   ]
  },
  {
   "cell_type": "code",
   "execution_count": 65,
   "id": "6a8ecce5",
   "metadata": {},
   "outputs": [],
   "source": [
    "a=np.arange(40,60)"
   ]
  },
  {
   "cell_type": "code",
   "execution_count": 66,
   "id": "388468d4",
   "metadata": {},
   "outputs": [
    {
     "data": {
      "text/plain": [
       "array([40, 41, 42, 43, 44, 45, 46, 47, 48, 49, 50, 51, 52, 53, 54, 55, 56,\n",
       "       57, 58, 59])"
      ]
     },
     "execution_count": 66,
     "metadata": {},
     "output_type": "execute_result"
    }
   ],
   "source": [
    "a"
   ]
  },
  {
   "cell_type": "code",
   "execution_count": 67,
   "id": "522ab9c4",
   "metadata": {},
   "outputs": [],
   "source": [
    "a.shape= 4,5"
   ]
  },
  {
   "cell_type": "code",
   "execution_count": 68,
   "id": "387c902b",
   "metadata": {},
   "outputs": [
    {
     "data": {
      "text/plain": [
       "array([[40, 41, 42, 43, 44],\n",
       "       [45, 46, 47, 48, 49],\n",
       "       [50, 51, 52, 53, 54],\n",
       "       [55, 56, 57, 58, 59]])"
      ]
     },
     "execution_count": 68,
     "metadata": {},
     "output_type": "execute_result"
    }
   ],
   "source": [
    "a"
   ]
  },
  {
   "cell_type": "code",
   "execution_count": 69,
   "id": "ad59de26",
   "metadata": {},
   "outputs": [],
   "source": [
    "x=np.zeros(3)"
   ]
  },
  {
   "cell_type": "code",
   "execution_count": 70,
   "id": "0d391769",
   "metadata": {},
   "outputs": [
    {
     "data": {
      "text/plain": [
       "array([0., 0., 0.])"
      ]
     },
     "execution_count": 70,
     "metadata": {},
     "output_type": "execute_result"
    }
   ],
   "source": [
    "x"
   ]
  },
  {
   "cell_type": "code",
   "execution_count": null,
   "id": "41a1e536",
   "metadata": {},
   "outputs": [],
   "source": [
    "x.np."
   ]
  }
 ],
 "metadata": {
  "kernelspec": {
   "display_name": "Python 3 (ipykernel)",
   "language": "python",
   "name": "python3"
  },
  "language_info": {
   "codemirror_mode": {
    "name": "ipython",
    "version": 3
   },
   "file_extension": ".py",
   "mimetype": "text/x-python",
   "name": "python",
   "nbconvert_exporter": "python",
   "pygments_lexer": "ipython3",
   "version": "3.9.13"
  }
 },
 "nbformat": 4,
 "nbformat_minor": 5
}
