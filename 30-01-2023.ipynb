{
 "cells": [
  {
   "cell_type": "code",
   "execution_count": 1,
   "id": "5bc0cb2f",
   "metadata": {},
   "outputs": [],
   "source": [
    "c=\"CSE\""
   ]
  },
  {
   "cell_type": "code",
   "execution_count": 3,
   "id": "af183ef6",
   "metadata": {},
   "outputs": [
    {
     "name": "stdout",
     "output_type": "stream",
     "text": [
      "1 2 3 4 5 6 7 8 9 10 11 12 13 14 15 16 17 18 19 20 21 22 23 24 25 26 27 28 29 30 31 32 33 34 35 36 37 38 39 40 41 42 43 44 45 46 47 48 49 50 51 52 53 54 55 56 57 58 59 60 61 62 63 64 65 66 67 68 69 70 71 72 73 74 75 76 77 78 79 80 81 82 83 84 85 86 87 88 89 90 91 92 93 94 95 96 97 98 99 100 "
     ]
    }
   ],
   "source": [
    "for i in range(1,101):\n",
    "    print(i,end=\" \")"
   ]
  },
  {
   "cell_type": "code",
   "execution_count": 4,
   "id": "75d368e1",
   "metadata": {},
   "outputs": [
    {
     "name": "stdout",
     "output_type": "stream",
     "text": [
      "0 2 4 6 8 10 12 14 16 18 20 22 24 26 28 30 32 34 36 38 40 42 44 46 48 50 52 54 56 58 60 62 64 66 68 70 72 74 76 78 80 82 84 86 88 90 92 94 96 98 "
     ]
    }
   ],
   "source": [
    "for i in range(0,100,2):\n",
    "    print(i,end=\" \")\n",
    "    "
   ]
  },
  {
   "cell_type": "code",
   "execution_count": 7,
   "id": "e368ac81",
   "metadata": {},
   "outputs": [
    {
     "name": "stdout",
     "output_type": "stream",
     "text": [
      "0 5 10 15 20 25 30 35 40 45 50 55 60 65 70 75 80 85 90 95 100 "
     ]
    }
   ],
   "source": [
    "for i in range(0,101,5):\n",
    "    print(i,end=\" \")"
   ]
  },
  {
   "cell_type": "raw",
   "id": "684f0c91",
   "metadata": {},
   "source": [
    "c.replace('CSE','akhil')"
   ]
  },
  {
   "cell_type": "code",
   "execution_count": 8,
   "id": "9368bf1e",
   "metadata": {},
   "outputs": [
    {
     "data": {
      "text/plain": [
       "'akhil'"
      ]
     },
     "execution_count": 8,
     "metadata": {},
     "output_type": "execute_result"
    }
   ],
   "source": [
    "c.replace('CSE','akhil')"
   ]
  },
  {
   "cell_type": "code",
   "execution_count": 9,
   "id": "2246e756",
   "metadata": {},
   "outputs": [
    {
     "data": {
      "text/plain": [
       "'CSE'"
      ]
     },
     "execution_count": 9,
     "metadata": {},
     "output_type": "execute_result"
    }
   ],
   "source": [
    "c"
   ]
  },
  {
   "cell_type": "code",
   "execution_count": 10,
   "id": "a4c51a0a",
   "metadata": {},
   "outputs": [],
   "source": [
    "l1=[45,2.80,'cse',[15,5.8,209,[56,'welcome to akhil',456],'pc']]"
   ]
  },
  {
   "cell_type": "code",
   "execution_count": 11,
   "id": "3993dd10",
   "metadata": {},
   "outputs": [
    {
     "data": {
      "text/plain": [
       "[45, 2.8, 'cse', [15, 5.8, 209, [56, 'welcome to akhil', 456], 'pc']]"
      ]
     },
     "execution_count": 11,
     "metadata": {},
     "output_type": "execute_result"
    }
   ],
   "source": [
    "l1"
   ]
  },
  {
   "cell_type": "code",
   "execution_count": 12,
   "id": "cdcd6f9e",
   "metadata": {},
   "outputs": [
    {
     "data": {
      "text/plain": [
       "[15, 5.8, 209, [56, 'welcome to akhil', 456], 'pc']"
      ]
     },
     "execution_count": 12,
     "metadata": {},
     "output_type": "execute_result"
    }
   ],
   "source": [
    "l1[-1]"
   ]
  },
  {
   "cell_type": "code",
   "execution_count": 14,
   "id": "4e758e21",
   "metadata": {},
   "outputs": [
    {
     "data": {
      "text/plain": [
       "'to'"
      ]
     },
     "execution_count": 14,
     "metadata": {},
     "output_type": "execute_result"
    }
   ],
   "source": [
    "l1[3][3][1][8:10]"
   ]
  },
  {
   "cell_type": "markdown",
   "id": "53226ba9",
   "metadata": {},
   "source": []
  },
  {
   "cell_type": "code",
   "execution_count": 15,
   "id": "168ccf73",
   "metadata": {},
   "outputs": [
    {
     "data": {
      "text/plain": [
       "[45, 2.8, 'cse', [15, 5.8, 209, [56, 'welcome to akhil', 456], 'pc']]"
      ]
     },
     "execution_count": 15,
     "metadata": {},
     "output_type": "execute_result"
    }
   ],
   "source": [
    "l1"
   ]
  },
  {
   "cell_type": "code",
   "execution_count": 19,
   "id": "225b036b",
   "metadata": {},
   "outputs": [],
   "source": [
    "l1[0]=56"
   ]
  },
  {
   "cell_type": "code",
   "execution_count": 20,
   "id": "cc550e75",
   "metadata": {},
   "outputs": [
    {
     "data": {
      "text/plain": [
       "[56, 2.8, 'cse', [15, 5.8, 209, [56, 'welcome to akhil', 456], 'pc']]"
      ]
     },
     "execution_count": 20,
     "metadata": {},
     "output_type": "execute_result"
    }
   ],
   "source": [
    "l1"
   ]
  },
  {
   "cell_type": "markdown",
   "id": "255b0046",
   "metadata": {},
   "source": []
  },
  {
   "cell_type": "code",
   "execution_count": 32,
   "id": "be13be8a",
   "metadata": {},
   "outputs": [
    {
     "data": {
      "text/plain": [
       "[]"
      ]
     },
     "execution_count": 32,
     "metadata": {},
     "output_type": "execute_result"
    }
   ],
   "source": [
    "l1"
   ]
  },
  {
   "cell_type": "code",
   "execution_count": 33,
   "id": "dd76c57b",
   "metadata": {},
   "outputs": [],
   "source": [
    "l1=[45,2.80,'cse',[15,5.8,209,[56,'welcome to akhil',456],'pc']]"
   ]
  },
  {
   "cell_type": "code",
   "execution_count": 35,
   "id": "ce92d681",
   "metadata": {},
   "outputs": [
    {
     "data": {
      "text/plain": [
       "'cse'"
      ]
     },
     "execution_count": 35,
     "metadata": {},
     "output_type": "execute_result"
    }
   ],
   "source": [
    "l1[2]"
   ]
  },
  {
   "cell_type": "code",
   "execution_count": 36,
   "id": "ea49821f",
   "metadata": {},
   "outputs": [],
   "source": [
    "l1[3].append(\"ak\")"
   ]
  },
  {
   "cell_type": "code",
   "execution_count": 37,
   "id": "ca57419f",
   "metadata": {},
   "outputs": [
    {
     "data": {
      "text/plain": [
       "[45, 2.8, 'cse', [15, 5.8, 209, [56, 'welcome to akhil', 456], 'pc', 'ak']]"
      ]
     },
     "execution_count": 37,
     "metadata": {},
     "output_type": "execute_result"
    }
   ],
   "source": [
    "l1"
   ]
  },
  {
   "cell_type": "code",
   "execution_count": null,
   "id": "730463d2",
   "metadata": {},
   "outputs": [],
   "source": [
    "l1.insert()"
   ]
  }
 ],
 "metadata": {
  "kernelspec": {
   "display_name": "Python 3 (ipykernel)",
   "language": "python",
   "name": "python3"
  },
  "language_info": {
   "codemirror_mode": {
    "name": "ipython",
    "version": 3
   },
   "file_extension": ".py",
   "mimetype": "text/x-python",
   "name": "python",
   "nbconvert_exporter": "python",
   "pygments_lexer": "ipython3",
   "version": "3.9.13"
  }
 },
 "nbformat": 4,
 "nbformat_minor": 5
}
